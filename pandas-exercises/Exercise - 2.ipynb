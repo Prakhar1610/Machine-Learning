{
 "cells": [
  {
   "cell_type": "code",
   "execution_count": 1,
   "id": "e253adf1",
   "metadata": {},
   "outputs": [],
   "source": [
    "import pandas as pd"
   ]
  },
  {
   "cell_type": "markdown",
   "id": "3f5d9791",
   "metadata": {},
   "source": [
    "# titles.csv"
   ]
  },
  {
   "cell_type": "code",
   "execution_count": 2,
   "id": "575be4bb",
   "metadata": {
    "scrolled": true
   },
   "outputs": [
    {
     "data": {
      "text/html": [
       "<div>\n",
       "<style scoped>\n",
       "    .dataframe tbody tr th:only-of-type {\n",
       "        vertical-align: middle;\n",
       "    }\n",
       "\n",
       "    .dataframe tbody tr th {\n",
       "        vertical-align: top;\n",
       "    }\n",
       "\n",
       "    .dataframe thead th {\n",
       "        text-align: right;\n",
       "    }\n",
       "</style>\n",
       "<table border=\"1\" class=\"dataframe\">\n",
       "  <thead>\n",
       "    <tr style=\"text-align: right;\">\n",
       "      <th></th>\n",
       "      <th>title</th>\n",
       "      <th>year</th>\n",
       "    </tr>\n",
       "  </thead>\n",
       "  <tbody>\n",
       "    <tr>\n",
       "      <th>0</th>\n",
       "      <td>El plebeyo</td>\n",
       "      <td>1953</td>\n",
       "    </tr>\n",
       "    <tr>\n",
       "      <th>1</th>\n",
       "      <td>Atoski vrtovi - preobrazenje</td>\n",
       "      <td>1989</td>\n",
       "    </tr>\n",
       "    <tr>\n",
       "      <th>2</th>\n",
       "      <td>Mateegy norkos</td>\n",
       "      <td>2006</td>\n",
       "    </tr>\n",
       "    <tr>\n",
       "      <th>3</th>\n",
       "      <td>Lanka Dahanam</td>\n",
       "      <td>1936</td>\n",
       "    </tr>\n",
       "    <tr>\n",
       "      <th>4</th>\n",
       "      <td>Acciaio</td>\n",
       "      <td>1933</td>\n",
       "    </tr>\n",
       "  </tbody>\n",
       "</table>\n",
       "</div>"
      ],
      "text/plain": [
       "                          title  year\n",
       "0                    El plebeyo  1953\n",
       "1  Atoski vrtovi - preobrazenje  1989\n",
       "2                Mateegy norkos  2006\n",
       "3                 Lanka Dahanam  1936\n",
       "4                       Acciaio  1933"
      ]
     },
     "execution_count": 2,
     "metadata": {},
     "output_type": "execute_result"
    }
   ],
   "source": [
    "titles = pd.read_csv('C:/Users/dell/Documents/ML Training/OneDrive-2024-06-20/titles.csv')\n",
    "titles.head()"
   ]
  },
  {
   "cell_type": "markdown",
   "id": "d1cff816",
   "metadata": {},
   "source": [
    "## What are the ten most common movie names of all time?"
   ]
  },
  {
   "cell_type": "code",
   "execution_count": 3,
   "id": "af91bd2d",
   "metadata": {},
   "outputs": [
    {
     "data": {
      "text/plain": [
       "title\n",
       "Anna                    10\n",
       "Maya                    11\n",
       "Freedom                 11\n",
       "Temptation              11\n",
       "The Three Musketeers    11\n",
       "Othello                 11\n",
       "The Outsider            12\n",
       "Macbeth                 16\n",
       "Carmen                  17\n",
       "Hamlet                  20\n",
       "dtype: int64"
      ]
     },
     "execution_count": 3,
     "metadata": {},
     "output_type": "execute_result"
    }
   ],
   "source": [
    "titles.groupby('title').size().sort_values().tail(10)"
   ]
  },
  {
   "cell_type": "code",
   "execution_count": 4,
   "id": "c4337bc2",
   "metadata": {},
   "outputs": [
    {
     "data": {
      "text/plain": [
       "Hamlet                  20\n",
       "Carmen                  17\n",
       "Macbeth                 16\n",
       "The Outsider            12\n",
       "Maya                    11\n",
       "Othello                 11\n",
       "The Three Musketeers    11\n",
       "Temptation              11\n",
       "Freedom                 11\n",
       "Anna Karenina           10\n",
       "Name: title, dtype: int64"
      ]
     },
     "execution_count": 4,
     "metadata": {},
     "output_type": "execute_result"
    }
   ],
   "source": [
    "titles.title.value_counts().head(10)"
   ]
  },
  {
   "cell_type": "markdown",
   "id": "1fa0f837",
   "metadata": {},
   "source": [
    "## Which three years of the 1930s saw the most films released?"
   ]
  },
  {
   "cell_type": "code",
   "execution_count": 5,
   "id": "246ecc06",
   "metadata": {},
   "outputs": [
    {
     "data": {
      "text/html": [
       "<div>\n",
       "<style scoped>\n",
       "    .dataframe tbody tr th:only-of-type {\n",
       "        vertical-align: middle;\n",
       "    }\n",
       "\n",
       "    .dataframe tbody tr th {\n",
       "        vertical-align: top;\n",
       "    }\n",
       "\n",
       "    .dataframe thead th {\n",
       "        text-align: right;\n",
       "    }\n",
       "</style>\n",
       "<table border=\"1\" class=\"dataframe\">\n",
       "  <thead>\n",
       "    <tr style=\"text-align: right;\">\n",
       "      <th></th>\n",
       "      <th>title</th>\n",
       "      <th>year</th>\n",
       "    </tr>\n",
       "  </thead>\n",
       "  <tbody>\n",
       "    <tr>\n",
       "      <th>3</th>\n",
       "      <td>Lanka Dahanam</td>\n",
       "      <td>1936</td>\n",
       "    </tr>\n",
       "    <tr>\n",
       "      <th>4</th>\n",
       "      <td>Acciaio</td>\n",
       "      <td>1933</td>\n",
       "    </tr>\n",
       "    <tr>\n",
       "      <th>8</th>\n",
       "      <td>Oklahoma Jim</td>\n",
       "      <td>1931</td>\n",
       "    </tr>\n",
       "    <tr>\n",
       "      <th>68</th>\n",
       "      <td>Blackmailer</td>\n",
       "      <td>1936</td>\n",
       "    </tr>\n",
       "    <tr>\n",
       "      <th>90</th>\n",
       "      <td>Papacito lindo</td>\n",
       "      <td>1939</td>\n",
       "    </tr>\n",
       "    <tr>\n",
       "      <th>98</th>\n",
       "      <td>Zigeunerbaron</td>\n",
       "      <td>1935</td>\n",
       "    </tr>\n",
       "    <tr>\n",
       "      <th>111</th>\n",
       "      <td>Les filles de la concierge</td>\n",
       "      <td>1934</td>\n",
       "    </tr>\n",
       "    <tr>\n",
       "      <th>151</th>\n",
       "      <td>Madame Butterfly</td>\n",
       "      <td>1932</td>\n",
       "    </tr>\n",
       "    <tr>\n",
       "      <th>164</th>\n",
       "      <td>Ball im Savoy</td>\n",
       "      <td>1935</td>\n",
       "    </tr>\n",
       "    <tr>\n",
       "      <th>173</th>\n",
       "      <td>Der Kosak und die Nachtigall</td>\n",
       "      <td>1935</td>\n",
       "    </tr>\n",
       "  </tbody>\n",
       "</table>\n",
       "</div>"
      ],
      "text/plain": [
       "                            title  year\n",
       "3                   Lanka Dahanam  1936\n",
       "4                         Acciaio  1933\n",
       "8                    Oklahoma Jim  1931\n",
       "68                    Blackmailer  1936\n",
       "90                 Papacito lindo  1939\n",
       "98                  Zigeunerbaron  1935\n",
       "111    Les filles de la concierge  1934\n",
       "151              Madame Butterfly  1932\n",
       "164                 Ball im Savoy  1935\n",
       "173  Der Kosak und die Nachtigall  1935"
      ]
     },
     "execution_count": 5,
     "metadata": {},
     "output_type": "execute_result"
    }
   ],
   "source": [
    "t1 = titles[(titles['year'] >= 1930) & (titles['year'] <= 1939)]\n",
    "t1.head(10)"
   ]
  },
  {
   "cell_type": "code",
   "execution_count": 6,
   "id": "b83fefca",
   "metadata": {},
   "outputs": [
    {
     "data": {
      "text/html": [
       "<div>\n",
       "<style scoped>\n",
       "    .dataframe tbody tr th:only-of-type {\n",
       "        vertical-align: middle;\n",
       "    }\n",
       "\n",
       "    .dataframe tbody tr th {\n",
       "        vertical-align: top;\n",
       "    }\n",
       "\n",
       "    .dataframe thead th {\n",
       "        text-align: right;\n",
       "    }\n",
       "</style>\n",
       "<table border=\"1\" class=\"dataframe\">\n",
       "  <thead>\n",
       "    <tr style=\"text-align: right;\">\n",
       "      <th></th>\n",
       "      <th>title</th>\n",
       "    </tr>\n",
       "    <tr>\n",
       "      <th>year</th>\n",
       "      <th></th>\n",
       "    </tr>\n",
       "  </thead>\n",
       "  <tbody>\n",
       "    <tr>\n",
       "      <th>1937</th>\n",
       "      <td>1217</td>\n",
       "    </tr>\n",
       "    <tr>\n",
       "      <th>1938</th>\n",
       "      <td>1161</td>\n",
       "    </tr>\n",
       "    <tr>\n",
       "      <th>1936</th>\n",
       "      <td>1153</td>\n",
       "    </tr>\n",
       "  </tbody>\n",
       "</table>\n",
       "</div>"
      ],
      "text/plain": [
       "      title\n",
       "year       \n",
       "1937   1217\n",
       "1938   1161\n",
       "1936   1153"
      ]
     },
     "execution_count": 6,
     "metadata": {},
     "output_type": "execute_result"
    }
   ],
   "source": [
    "t1.groupby('year').count().sort_values('title' , ascending = False).head(3)"
   ]
  },
  {
   "cell_type": "code",
   "execution_count": 7,
   "id": "a9111d49",
   "metadata": {},
   "outputs": [],
   "source": [
    "#another way"
   ]
  },
  {
   "cell_type": "code",
   "execution_count": 8,
   "id": "bcc3ce0e",
   "metadata": {},
   "outputs": [
    {
     "data": {
      "text/plain": [
       "1937    1217\n",
       "1938    1161\n",
       "1936    1153\n",
       "Name: year, dtype: int64"
      ]
     },
     "execution_count": 8,
     "metadata": {},
     "output_type": "execute_result"
    }
   ],
   "source": [
    "t = titles\n",
    "t = t[t.year // 10 == 193]\n",
    "t.year.value_counts().head(3)"
   ]
  },
  {
   "cell_type": "markdown",
   "id": "61c90c86",
   "metadata": {},
   "source": [
    "## Plot the number of films that have been released each decade over the history of cinema."
   ]
  },
  {
   "cell_type": "code",
   "execution_count": 9,
   "id": "39489ffd",
   "metadata": {},
   "outputs": [
    {
     "data": {
      "text/html": [
       "<div>\n",
       "<style scoped>\n",
       "    .dataframe tbody tr th:only-of-type {\n",
       "        vertical-align: middle;\n",
       "    }\n",
       "\n",
       "    .dataframe tbody tr th {\n",
       "        vertical-align: top;\n",
       "    }\n",
       "\n",
       "    .dataframe thead th {\n",
       "        text-align: right;\n",
       "    }\n",
       "</style>\n",
       "<table border=\"1\" class=\"dataframe\">\n",
       "  <thead>\n",
       "    <tr style=\"text-align: right;\">\n",
       "      <th></th>\n",
       "      <th>title</th>\n",
       "      <th>year</th>\n",
       "      <th>decade</th>\n",
       "    </tr>\n",
       "  </thead>\n",
       "  <tbody>\n",
       "    <tr>\n",
       "      <th>0</th>\n",
       "      <td>El plebeyo</td>\n",
       "      <td>1953</td>\n",
       "      <td>1950</td>\n",
       "    </tr>\n",
       "    <tr>\n",
       "      <th>1</th>\n",
       "      <td>Atoski vrtovi - preobrazenje</td>\n",
       "      <td>1989</td>\n",
       "      <td>1980</td>\n",
       "    </tr>\n",
       "    <tr>\n",
       "      <th>2</th>\n",
       "      <td>Mateegy norkos</td>\n",
       "      <td>2006</td>\n",
       "      <td>2000</td>\n",
       "    </tr>\n",
       "    <tr>\n",
       "      <th>3</th>\n",
       "      <td>Lanka Dahanam</td>\n",
       "      <td>1936</td>\n",
       "      <td>1930</td>\n",
       "    </tr>\n",
       "    <tr>\n",
       "      <th>4</th>\n",
       "      <td>Acciaio</td>\n",
       "      <td>1933</td>\n",
       "      <td>1930</td>\n",
       "    </tr>\n",
       "    <tr>\n",
       "      <th>...</th>\n",
       "      <td>...</td>\n",
       "      <td>...</td>\n",
       "      <td>...</td>\n",
       "    </tr>\n",
       "    <tr>\n",
       "      <th>226008</th>\n",
       "      <td>Eyes of Youth</td>\n",
       "      <td>1919</td>\n",
       "      <td>1910</td>\n",
       "    </tr>\n",
       "    <tr>\n",
       "      <th>226009</th>\n",
       "      <td>Madrid</td>\n",
       "      <td>2002</td>\n",
       "      <td>2000</td>\n",
       "    </tr>\n",
       "    <tr>\n",
       "      <th>226010</th>\n",
       "      <td>Ridgeway of Montana</td>\n",
       "      <td>1924</td>\n",
       "      <td>1920</td>\n",
       "    </tr>\n",
       "    <tr>\n",
       "      <th>226011</th>\n",
       "      <td>Professor Mamlock</td>\n",
       "      <td>1961</td>\n",
       "      <td>1960</td>\n",
       "    </tr>\n",
       "    <tr>\n",
       "      <th>226012</th>\n",
       "      <td>Zui jia pai dang 3: Nu huang mi ling</td>\n",
       "      <td>1984</td>\n",
       "      <td>1980</td>\n",
       "    </tr>\n",
       "  </tbody>\n",
       "</table>\n",
       "<p>226013 rows × 3 columns</p>\n",
       "</div>"
      ],
      "text/plain": [
       "                                       title  year  decade\n",
       "0                                 El plebeyo  1953    1950\n",
       "1               Atoski vrtovi - preobrazenje  1989    1980\n",
       "2                             Mateegy norkos  2006    2000\n",
       "3                              Lanka Dahanam  1936    1930\n",
       "4                                    Acciaio  1933    1930\n",
       "...                                      ...   ...     ...\n",
       "226008                         Eyes of Youth  1919    1910\n",
       "226009                                Madrid  2002    2000\n",
       "226010                   Ridgeway of Montana  1924    1920\n",
       "226011                     Professor Mamlock  1961    1960\n",
       "226012  Zui jia pai dang 3: Nu huang mi ling  1984    1980\n",
       "\n",
       "[226013 rows x 3 columns]"
      ]
     },
     "execution_count": 9,
     "metadata": {},
     "output_type": "execute_result"
    }
   ],
   "source": [
    "t1 = titles\n",
    "t1['decade'] = (t1.year // 10) * 10\n",
    "t1"
   ]
  },
  {
   "cell_type": "code",
   "execution_count": 10,
   "id": "4ddf86ef",
   "metadata": {},
   "outputs": [
    {
     "data": {
      "text/plain": [
       "2010    65830\n",
       "2000    35730\n",
       "1990    21547\n",
       "1980    19532\n",
       "1970    18476\n",
       "1960    17419\n",
       "1950    12664\n",
       "1930    10245\n",
       "1920     8954\n",
       "1940     8561\n",
       "1910     6752\n",
       "2020      260\n",
       "1900       39\n",
       "1890        3\n",
       "2110        1\n",
       "Name: decade, dtype: int64"
      ]
     },
     "execution_count": 10,
     "metadata": {},
     "output_type": "execute_result"
    }
   ],
   "source": [
    "# value_counts() will count frequecy of unique value(also include nan) and return a series of values and their frequency from most to least\n",
    "t1.decade.value_counts()"
   ]
  },
  {
   "cell_type": "code",
   "execution_count": 11,
   "id": "65f1467c",
   "metadata": {},
   "outputs": [
    {
     "data": {
      "text/plain": [
       "<AxesSubplot:ylabel='Frequency'>"
      ]
     },
     "execution_count": 11,
     "metadata": {},
     "output_type": "execute_result"
    },
    {
     "data": {
      "image/png": "[encoded data removed]",
      "text/plain": [
       "<Figure size 640x480 with 1 Axes>"
      ]
     },
     "metadata": {},
     "output_type": "display_data"
    }
   ],
   "source": [
    "t1.decade.plot(kind = 'hist')"
   ]
  },
  {
   "cell_type": "code",
   "execution_count": 12,
   "id": "1b9e2ff6",
   "metadata": {},
   "outputs": [
    {
     "data": {
      "text/plain": [
       "<AxesSubplot:>"
      ]
     },
     "execution_count": 12,
     "metadata": {},
     "output_type": "execute_result"
    },
    {
     "data": {
      "image/png": "[encoded data removed]",
      "text/plain": [
       "<Figure size 640x480 with 1 Axes>"
      ]
     },
     "metadata": {},
     "output_type": "display_data"
    }
   ],
   "source": [
    "t1.decade.value_counts().plot(kind = 'bar')"
   ]
  },
  {
   "cell_type": "code",
   "execution_count": 13,
   "id": "cfb02d88",
   "metadata": {},
   "outputs": [
    {
     "data": {
      "text/plain": [
       "1890        3\n",
       "1900       39\n",
       "1910     6752\n",
       "1920     8954\n",
       "1930    10245\n",
       "1940     8561\n",
       "1950    12664\n",
       "1960    17419\n",
       "1970    18476\n",
       "1980    19532\n",
       "1990    21547\n",
       "2000    35730\n",
       "2010    65830\n",
       "2020      260\n",
       "2110        1\n",
       "Name: decade, dtype: int64"
      ]
     },
     "execution_count": 13,
     "metadata": {},
     "output_type": "execute_result"
    }
   ],
   "source": [
    "# we can see decades are not in order in above plot , for we will -\n",
    "t1 = t1.decade.value_counts()\n",
    "t1.sort_index()"
   ]
  },
  {
   "cell_type": "code",
   "execution_count": 14,
   "id": "317b4205",
   "metadata": {},
   "outputs": [
    {
     "data": {
      "text/plain": [
       "<AxesSubplot:>"
      ]
     },
     "execution_count": 14,
     "metadata": {},
     "output_type": "execute_result"
    },
    {
     "data": {
      "image/png": "[encoded data removed]",
      "text/plain": [
       "<Figure size 640x480 with 1 Axes>"
      ]
     },
     "metadata": {},
     "output_type": "display_data"
    }
   ],
   "source": [
    "t1.sort_index().plot(kind = 'bar')"
   ]
  },
  {
   "cell_type": "code",
   "execution_count": 15,
   "id": "e08b9801",
   "metadata": {},
   "outputs": [
    {
     "data": {
      "text/plain": [
       "<AxesSubplot:>"
      ]
     },
     "execution_count": 15,
     "metadata": {},
     "output_type": "execute_result"
    },
    {
     "data": {
      "image/png": "[encoded data removed]",
      "text/plain": [
       "<Figure size 640x480 with 1 Axes>"
      ]
     },
     "metadata": {},
     "output_type": "display_data"
    }
   ],
   "source": [
    "t1.sort_index().plot(kind = 'line')"
   ]
  },
  {
   "cell_type": "code",
   "execution_count": 16,
   "id": "6ef917bb",
   "metadata": {},
   "outputs": [
    {
     "data": {
      "text/plain": [
       "<AxesSubplot:title={'center':'Number of films by decade'}, xlabel='decade', ylabel='# of films'>"
      ]
     },
     "execution_count": 16,
     "metadata": {},
     "output_type": "execute_result"
    },
    {
     "data": {
      "image/png": "[encoded data removed]",
      "text/plain": [
       "<Figure size 640x480 with 1 Axes>"
      ]
     },
     "metadata": {},
     "output_type": "display_data"
    }
   ],
   "source": [
    "# to make plot look more presentable\n",
    "t1.sort_index().plot(kind=\"line\",title=\"Number of films by decade\", xlim=(1890,2020), ylabel = \"# of films\" , xlabel = \"decade\")"
   ]
  },
  {
   "cell_type": "markdown",
   "id": "ba5c5093",
   "metadata": {},
   "source": [
    "## Plot the number of \"Hamlet\" films made each decade"
   ]
  },
  {
   "cell_type": "code",
   "execution_count": 17,
   "id": "97edf74a",
   "metadata": {},
   "outputs": [
    {
     "data": {
      "text/plain": [
       "2010    5\n",
       "1910    3\n",
       "1990    2\n",
       "1970    2\n",
       "2000    2\n",
       "1960    2\n",
       "1980    1\n",
       "1920    1\n",
       "1940    1\n",
       "1950    1\n",
       "Name: decade, dtype: int64"
      ]
     },
     "execution_count": 17,
     "metadata": {},
     "output_type": "execute_result"
    }
   ],
   "source": [
    "th = titles[titles.title == \"Hamlet\"]\n",
    "th.decade.value_counts()"
   ]
  },
  {
   "cell_type": "code",
   "execution_count": 18,
   "id": "d4c0462c",
   "metadata": {},
   "outputs": [
    {
     "data": {
      "text/plain": [
       "1910    3\n",
       "1920    1\n",
       "1940    1\n",
       "1950    1\n",
       "1960    2\n",
       "1970    2\n",
       "1980    1\n",
       "1990    2\n",
       "2000    2\n",
       "2010    5\n",
       "Name: decade, dtype: int64"
      ]
     },
     "execution_count": 18,
     "metadata": {},
     "output_type": "execute_result"
    }
   ],
   "source": [
    "th.decade.value_counts().sort_index()"
   ]
  },
  {
   "cell_type": "code",
   "execution_count": 19,
   "id": "fdfac04e",
   "metadata": {},
   "outputs": [
    {
     "data": {
      "text/plain": [
       "<AxesSubplot:title={'center':'Hamlet movies made each decade'}, xlabel='Decade', ylabel='Frequency of Hamlet'>"
      ]
     },
     "execution_count": 19,
     "metadata": {},
     "output_type": "execute_result"
    },
    {
     "data": {
      "image/png": "[encoded data removed]",
      "text/plain": [
       "<Figure size 640x480 with 1 Axes>"
      ]
     },
     "metadata": {},
     "output_type": "display_data"
    }
   ],
   "source": [
    "th = th.decade.value_counts().sort_index()\n",
    "th.plot(kind = 'bar' , title = \"Hamlet movies made each decade\" , ylabel = \"Frequency of Hamlet\" , xlabel = \"Decade\")"
   ]
  },
  {
   "cell_type": "markdown",
   "id": "d1b7b08c",
   "metadata": {},
   "source": [
    "# cast.csv"
   ]
  },
  {
   "cell_type": "code",
   "execution_count": 20,
   "id": "fff82334",
   "metadata": {},
   "outputs": [
    {
     "data": {
      "text/html": [
       "<div>\n",
       "<style scoped>\n",
       "    .dataframe tbody tr th:only-of-type {\n",
       "        vertical-align: middle;\n",
       "    }\n",
       "\n",
       "    .dataframe tbody tr th {\n",
       "        vertical-align: top;\n",
       "    }\n",
       "\n",
       "    .dataframe thead th {\n",
       "        text-align: right;\n",
       "    }\n",
       "</style>\n",
       "<table border=\"1\" class=\"dataframe\">\n",
       "  <thead>\n",
       "    <tr style=\"text-align: right;\">\n",
       "      <th></th>\n",
       "      <th>title</th>\n",
       "      <th>year</th>\n",
       "      <th>name</th>\n",
       "      <th>type</th>\n",
       "      <th>character</th>\n",
       "      <th>n</th>\n",
       "      <th>decade</th>\n",
       "    </tr>\n",
       "  </thead>\n",
       "  <tbody>\n",
       "    <tr>\n",
       "      <th>0</th>\n",
       "      <td>Closet Monster</td>\n",
       "      <td>2015</td>\n",
       "      <td>Buffy #1</td>\n",
       "      <td>actor</td>\n",
       "      <td>Buffy 4</td>\n",
       "      <td>31.0</td>\n",
       "      <td>2010</td>\n",
       "    </tr>\n",
       "    <tr>\n",
       "      <th>1</th>\n",
       "      <td>Suuri illusioni</td>\n",
       "      <td>1985</td>\n",
       "      <td>Homo $</td>\n",
       "      <td>actor</td>\n",
       "      <td>Guests</td>\n",
       "      <td>22.0</td>\n",
       "      <td>1980</td>\n",
       "    </tr>\n",
       "    <tr>\n",
       "      <th>2</th>\n",
       "      <td>Battle of the Sexes</td>\n",
       "      <td>2017</td>\n",
       "      <td>$hutter</td>\n",
       "      <td>actor</td>\n",
       "      <td>Bobby Riggs Fan</td>\n",
       "      <td>10.0</td>\n",
       "      <td>2010</td>\n",
       "    </tr>\n",
       "    <tr>\n",
       "      <th>3</th>\n",
       "      <td>Secret in Their Eyes</td>\n",
       "      <td>2015</td>\n",
       "      <td>$hutter</td>\n",
       "      <td>actor</td>\n",
       "      <td>2002 Dodger Fan</td>\n",
       "      <td>NaN</td>\n",
       "      <td>2010</td>\n",
       "    </tr>\n",
       "    <tr>\n",
       "      <th>4</th>\n",
       "      <td>Steve Jobs</td>\n",
       "      <td>2015</td>\n",
       "      <td>$hutter</td>\n",
       "      <td>actor</td>\n",
       "      <td>1988 Opera House Patron</td>\n",
       "      <td>NaN</td>\n",
       "      <td>2010</td>\n",
       "    </tr>\n",
       "    <tr>\n",
       "      <th>...</th>\n",
       "      <td>...</td>\n",
       "      <td>...</td>\n",
       "      <td>...</td>\n",
       "      <td>...</td>\n",
       "      <td>...</td>\n",
       "      <td>...</td>\n",
       "      <td>...</td>\n",
       "    </tr>\n",
       "    <tr>\n",
       "      <th>3442897</th>\n",
       "      <td>Foxtrot</td>\n",
       "      <td>1988</td>\n",
       "      <td>Lilja Þórisdóttir</td>\n",
       "      <td>actress</td>\n",
       "      <td>Dóra</td>\n",
       "      <td>24.0</td>\n",
       "      <td>1980</td>\n",
       "    </tr>\n",
       "    <tr>\n",
       "      <th>3442898</th>\n",
       "      <td>Niceland (Population. 1.000.002)</td>\n",
       "      <td>2004</td>\n",
       "      <td>Sigríður Jóna Þórisdóttir</td>\n",
       "      <td>actress</td>\n",
       "      <td>Woman in Bus</td>\n",
       "      <td>26.0</td>\n",
       "      <td>2000</td>\n",
       "    </tr>\n",
       "    <tr>\n",
       "      <th>3442899</th>\n",
       "      <td>Skammdegi</td>\n",
       "      <td>1985</td>\n",
       "      <td>Dalla Þórðardóttir</td>\n",
       "      <td>actress</td>\n",
       "      <td>Hjúkrunarkona</td>\n",
       "      <td>9.0</td>\n",
       "      <td>1980</td>\n",
       "    </tr>\n",
       "    <tr>\n",
       "      <th>3442900</th>\n",
       "      <td>U.S.S.S.S...</td>\n",
       "      <td>2003</td>\n",
       "      <td>Kristín Andrea Þórðardóttir</td>\n",
       "      <td>actress</td>\n",
       "      <td>Afgr.dama á bensínstöð</td>\n",
       "      <td>17.0</td>\n",
       "      <td>2000</td>\n",
       "    </tr>\n",
       "    <tr>\n",
       "      <th>3442901</th>\n",
       "      <td>Bye Bye Blue Bird</td>\n",
       "      <td>1999</td>\n",
       "      <td>Rosa á Rógvu</td>\n",
       "      <td>actress</td>\n",
       "      <td>Pensionatværtinde</td>\n",
       "      <td>NaN</td>\n",
       "      <td>1990</td>\n",
       "    </tr>\n",
       "  </tbody>\n",
       "</table>\n",
       "<p>3442902 rows × 7 columns</p>\n",
       "</div>"
      ],
      "text/plain": [
       "                                    title  year                         name  \\\n",
       "0                          Closet Monster  2015                     Buffy #1   \n",
       "1                         Suuri illusioni  1985                       Homo $   \n",
       "2                     Battle of the Sexes  2017                      $hutter   \n",
       "3                    Secret in Their Eyes  2015                      $hutter   \n",
       "4                              Steve Jobs  2015                      $hutter   \n",
       "...                                   ...   ...                          ...   \n",
       "3442897                           Foxtrot  1988            Lilja Þórisdóttir   \n",
       "3442898  Niceland (Population. 1.000.002)  2004    Sigríður Jóna Þórisdóttir   \n",
       "3442899                         Skammdegi  1985           Dalla Þórðardóttir   \n",
       "3442900                      U.S.S.S.S...  2003  Kristín Andrea Þórðardóttir   \n",
       "3442901                 Bye Bye Blue Bird  1999                 Rosa á Rógvu   \n",
       "\n",
       "            type                character     n  decade  \n",
       "0          actor                  Buffy 4  31.0    2010  \n",
       "1          actor                   Guests  22.0    1980  \n",
       "2          actor          Bobby Riggs Fan  10.0    2010  \n",
       "3          actor          2002 Dodger Fan   NaN    2010  \n",
       "4          actor  1988 Opera House Patron   NaN    2010  \n",
       "...          ...                      ...   ...     ...  \n",
       "3442897  actress                     Dóra  24.0    1980  \n",
       "3442898  actress             Woman in Bus  26.0    2000  \n",
       "3442899  actress            Hjúkrunarkona   9.0    1980  \n",
       "3442900  actress   Afgr.dama á bensínstöð  17.0    2000  \n",
       "3442901  actress        Pensionatværtinde   NaN    1990  \n",
       "\n",
       "[3442902 rows x 7 columns]"
      ]
     },
     "execution_count": 20,
     "metadata": {},
     "output_type": "execute_result"
    }
   ],
   "source": [
    "c = pd.read_csv('C:/Users/dell/Documents/ML Training/OneDrive-2024-06-20/cast.csv')\n",
    "c['decade'] = (c.year // 10) * 10\n",
    "c"
   ]
  },
  {
   "cell_type": "markdown",
   "id": "b5fe4810",
   "metadata": {},
   "source": [
    "## Plot the number of \"Rustler\" characters in each decade of the history of film."
   ]
  },
  {
   "cell_type": "code",
   "execution_count": 21,
   "id": "2bbc4557",
   "metadata": {},
   "outputs": [
    {
     "data": {
      "text/plain": [
       "<AxesSubplot:title={'center':'Rustler characters each decade'}, xlabel='Decade', ylabel='Frequency of Rustler characters'>"
      ]
     },
     "execution_count": 21,
     "metadata": {},
     "output_type": "execute_result"
    },
    {
     "data": {
      "image/png": "[encoded data removed]",
      "text/plain": [
       "<Figure size 640x480 with 1 Axes>"
      ]
     },
     "metadata": {},
     "output_type": "display_data"
    }
   ],
   "source": [
    "cr = c[c.character == \"Rustler\"]\n",
    "cr = cr.decade.value_counts().sort_index()\n",
    "cr.plot(kind = 'bar' , title = \"Rustler characters each decade\" , ylabel = \"Frequency of Rustler characters\" , xlabel = \"Decade\")"
   ]
  },
  {
   "cell_type": "code",
   "execution_count": 22,
   "id": "d1238eb2",
   "metadata": {},
   "outputs": [
    {
     "data": {
      "text/plain": [
       "<AxesSubplot:title={'center':'Rustler characters each decade'}, xlabel='decade', ylabel='Frequency of Rustler characterss'>"
      ]
     },
     "execution_count": 22,
     "metadata": {},
     "output_type": "execute_result"
    },
    {
     "data": {
      "image/png": "[encoded data removed]",
      "text/plain": [
       "<Figure size 640x480 with 1 Axes>"
      ]
     },
     "metadata": {},
     "output_type": "display_data"
    }
   ],
   "source": [
    "cr.sort_index().plot(kind=\"line\",title=\"Rustler characters each decade\", xlim=(1920,2000), ylabel = \"Frequency of Rustler characterss\" , xlabel = \"decade\")"
   ]
  },
  {
   "cell_type": "markdown",
   "id": "7626a227",
   "metadata": {},
   "source": [
    "## Plot the number of \"Hamlet\" characters each decade."
   ]
  },
  {
   "cell_type": "code",
   "execution_count": 23,
   "id": "a0aa8756",
   "metadata": {},
   "outputs": [
    {
     "data": {
      "text/html": [
       "<div>\n",
       "<style scoped>\n",
       "    .dataframe tbody tr th:only-of-type {\n",
       "        vertical-align: middle;\n",
       "    }\n",
       "\n",
       "    .dataframe tbody tr th {\n",
       "        vertical-align: top;\n",
       "    }\n",
       "\n",
       "    .dataframe thead th {\n",
       "        text-align: right;\n",
       "    }\n",
       "</style>\n",
       "<table border=\"1\" class=\"dataframe\">\n",
       "  <thead>\n",
       "    <tr style=\"text-align: right;\">\n",
       "      <th></th>\n",
       "      <th>title</th>\n",
       "      <th>year</th>\n",
       "      <th>name</th>\n",
       "      <th>type</th>\n",
       "      <th>character</th>\n",
       "      <th>n</th>\n",
       "      <th>decade</th>\n",
       "    </tr>\n",
       "  </thead>\n",
       "  <tbody>\n",
       "    <tr>\n",
       "      <th>1547</th>\n",
       "      <td>Hamlet</td>\n",
       "      <td>1996</td>\n",
       "      <td>Riz Abbasi</td>\n",
       "      <td>actor</td>\n",
       "      <td>Attendant to Claudius</td>\n",
       "      <td>1.0</td>\n",
       "      <td>1990</td>\n",
       "    </tr>\n",
       "    <tr>\n",
       "      <th>7145</th>\n",
       "      <td>Hamlet</td>\n",
       "      <td>1921</td>\n",
       "      <td>Fritz Achterberg</td>\n",
       "      <td>actor</td>\n",
       "      <td>Fortinbras,</td>\n",
       "      <td>9.0</td>\n",
       "      <td>1920</td>\n",
       "    </tr>\n",
       "    <tr>\n",
       "      <th>10751</th>\n",
       "      <td>Hamlet</td>\n",
       "      <td>2009</td>\n",
       "      <td>Hayden Adams</td>\n",
       "      <td>actor</td>\n",
       "      <td>Laertes</td>\n",
       "      <td>7.0</td>\n",
       "      <td>2000</td>\n",
       "    </tr>\n",
       "    <tr>\n",
       "      <th>10752</th>\n",
       "      <td>Hamlet</td>\n",
       "      <td>2009</td>\n",
       "      <td>Hayden Adams</td>\n",
       "      <td>actor</td>\n",
       "      <td>Player</td>\n",
       "      <td>7.0</td>\n",
       "      <td>2000</td>\n",
       "    </tr>\n",
       "    <tr>\n",
       "      <th>13251</th>\n",
       "      <td>Hamlet</td>\n",
       "      <td>1913</td>\n",
       "      <td>Eric Adeney</td>\n",
       "      <td>actor</td>\n",
       "      <td>Reynaldo</td>\n",
       "      <td>14.0</td>\n",
       "      <td>1910</td>\n",
       "    </tr>\n",
       "    <tr>\n",
       "      <th>...</th>\n",
       "      <td>...</td>\n",
       "      <td>...</td>\n",
       "      <td>...</td>\n",
       "      <td>...</td>\n",
       "      <td>...</td>\n",
       "      <td>...</td>\n",
       "      <td>...</td>\n",
       "    </tr>\n",
       "    <tr>\n",
       "      <th>3341231</th>\n",
       "      <td>Hamlet</td>\n",
       "      <td>1969</td>\n",
       "      <td>Jennifer Tudor</td>\n",
       "      <td>actress</td>\n",
       "      <td>Court lady</td>\n",
       "      <td>23.0</td>\n",
       "      <td>1960</td>\n",
       "    </tr>\n",
       "    <tr>\n",
       "      <th>3363189</th>\n",
       "      <td>Hamlet</td>\n",
       "      <td>2000</td>\n",
       "      <td>Diane Venora</td>\n",
       "      <td>actress</td>\n",
       "      <td>Gertrude</td>\n",
       "      <td>3.0</td>\n",
       "      <td>2000</td>\n",
       "    </tr>\n",
       "    <tr>\n",
       "      <th>3391416</th>\n",
       "      <td>Hamlet</td>\n",
       "      <td>1996</td>\n",
       "      <td>Perdita Weeks</td>\n",
       "      <td>actress</td>\n",
       "      <td>Second Player</td>\n",
       "      <td>44.0</td>\n",
       "      <td>1990</td>\n",
       "    </tr>\n",
       "    <tr>\n",
       "      <th>3395743</th>\n",
       "      <td>Hamlet</td>\n",
       "      <td>2015</td>\n",
       "      <td>Katie (II) West</td>\n",
       "      <td>actress</td>\n",
       "      <td>Ophelia</td>\n",
       "      <td>7.0</td>\n",
       "      <td>2010</td>\n",
       "    </tr>\n",
       "    <tr>\n",
       "      <th>3411264</th>\n",
       "      <td>Hamlet</td>\n",
       "      <td>1996</td>\n",
       "      <td>Kate Winslet</td>\n",
       "      <td>actress</td>\n",
       "      <td>Ophelia</td>\n",
       "      <td>46.0</td>\n",
       "      <td>1990</td>\n",
       "    </tr>\n",
       "  </tbody>\n",
       "</table>\n",
       "<p>342 rows × 7 columns</p>\n",
       "</div>"
      ],
      "text/plain": [
       "          title  year              name     type              character     n  \\\n",
       "1547     Hamlet  1996        Riz Abbasi    actor  Attendant to Claudius   1.0   \n",
       "7145     Hamlet  1921  Fritz Achterberg    actor            Fortinbras,   9.0   \n",
       "10751    Hamlet  2009      Hayden Adams    actor                Laertes   7.0   \n",
       "10752    Hamlet  2009      Hayden Adams    actor                 Player   7.0   \n",
       "13251    Hamlet  1913       Eric Adeney    actor               Reynaldo  14.0   \n",
       "...         ...   ...               ...      ...                    ...   ...   \n",
       "3341231  Hamlet  1969    Jennifer Tudor  actress             Court lady  23.0   \n",
       "3363189  Hamlet  2000      Diane Venora  actress               Gertrude   3.0   \n",
       "3391416  Hamlet  1996     Perdita Weeks  actress          Second Player  44.0   \n",
       "3395743  Hamlet  2015   Katie (II) West  actress                Ophelia   7.0   \n",
       "3411264  Hamlet  1996      Kate Winslet  actress                Ophelia  46.0   \n",
       "\n",
       "         decade  \n",
       "1547       1990  \n",
       "7145       1920  \n",
       "10751      2000  \n",
       "10752      2000  \n",
       "13251      1910  \n",
       "...         ...  \n",
       "3341231    1960  \n",
       "3363189    2000  \n",
       "3391416    1990  \n",
       "3395743    2010  \n",
       "3411264    1990  \n",
       "\n",
       "[342 rows x 7 columns]"
      ]
     },
     "execution_count": 23,
     "metadata": {},
     "output_type": "execute_result"
    }
   ],
   "source": [
    "c2 = c[c.title == \"Hamlet\"]\n",
    "c2"
   ]
  },
  {
   "cell_type": "code",
   "execution_count": 24,
   "id": "92a3ab85",
   "metadata": {},
   "outputs": [
    {
     "name": "stdout",
     "output_type": "stream",
     "text": [
      "1910    28\n",
      "1920     9\n",
      "1940    24\n",
      "1950     5\n",
      "1960    57\n",
      "1970    19\n",
      "1980     3\n",
      "1990    83\n",
      "2000    55\n",
      "2010    59\n",
      "Name: decade, dtype: int64\n"
     ]
    }
   ],
   "source": [
    "c2 = c2.decade.value_counts().sort_index()\n",
    "print(c2)"
   ]
  },
  {
   "cell_type": "code",
   "execution_count": 25,
   "id": "76e0cfe8",
   "metadata": {},
   "outputs": [
    {
     "data": {
      "text/plain": [
       "<AxesSubplot:title={'center':'Number of Hamlet characters each decade'}, xlabel='Decade', ylabel='Total Hamlet characters'>"
      ]
     },
     "execution_count": 25,
     "metadata": {},
     "output_type": "execute_result"
    },
    {
     "data": {
      "image/png": "[encoded data removed]",
      "text/plain": [
       "<Figure size 640x480 with 1 Axes>"
      ]
     },
     "metadata": {},
     "output_type": "display_data"
    }
   ],
   "source": [
    "c2.plot(kind = 'bar' , title = \"Number of Hamlet characters each decade\" , ylabel = \"Total Hamlet characters\" , xlabel = \"Decade\")"
   ]
  },
  {
   "cell_type": "code",
   "execution_count": 26,
   "id": "9090a806",
   "metadata": {},
   "outputs": [
    {
     "data": {
      "text/plain": [
       "<AxesSubplot:title={'center':'Number of Hamlet characters each decade'}, xlabel='decade', ylabel='Total Hamlet characters'>"
      ]
     },
     "execution_count": 26,
     "metadata": {},
     "output_type": "execute_result"
    },
    {
     "data": {
      "image/png": "[encoded data removed]",
      "text/plain": [
       "<Figure size 640x480 with 1 Axes>"
      ]
     },
     "metadata": {},
     "output_type": "display_data"
    }
   ],
   "source": [
    "c2.sort_index().plot(kind=\"line\",title=\"Number of Hamlet characters each decade\", xlim=(1910,2010), ylabel = \"Total Hamlet characters\" , xlabel = \"decade\")"
   ]
  },
  {
   "cell_type": "markdown",
   "id": "0d09b672",
   "metadata": {},
   "source": [
    "## What are the 11 most common character names in movie history?"
   ]
  },
  {
   "cell_type": "code",
   "execution_count": 27,
   "id": "e48ef54e",
   "metadata": {},
   "outputs": [
    {
     "data": {
      "text/plain": [
       "Himself        19637\n",
       "Dancer         12019\n",
       "Extra          10848\n",
       "Reporter        7818\n",
       "Doctor          6963\n",
       "Party Guest     6786\n",
       "Student         6631\n",
       "Policeman       6424\n",
       "Bartender       6290\n",
       "Herself         6269\n",
       "Minor Role      6203\n",
       "Name: character, dtype: int64"
      ]
     },
     "execution_count": 27,
     "metadata": {},
     "output_type": "execute_result"
    }
   ],
   "source": [
    "c3 = c\n",
    "c3.character.value_counts().head(11)"
   ]
  },
  {
   "cell_type": "markdown",
   "id": "2966bc1f",
   "metadata": {},
   "source": [
    "## Who are the 10 people most often credited as \"Herself\" in film history?"
   ]
  },
  {
   "cell_type": "code",
   "execution_count": 28,
   "id": "c32cc34f",
   "metadata": {},
   "outputs": [
    {
     "data": {
      "text/html": [
       "<div>\n",
       "<style scoped>\n",
       "    .dataframe tbody tr th:only-of-type {\n",
       "        vertical-align: middle;\n",
       "    }\n",
       "\n",
       "    .dataframe tbody tr th {\n",
       "        vertical-align: top;\n",
       "    }\n",
       "\n",
       "    .dataframe thead th {\n",
       "        text-align: right;\n",
       "    }\n",
       "</style>\n",
       "<table border=\"1\" class=\"dataframe\">\n",
       "  <thead>\n",
       "    <tr style=\"text-align: right;\">\n",
       "      <th></th>\n",
       "      <th>title</th>\n",
       "      <th>year</th>\n",
       "      <th>name</th>\n",
       "      <th>type</th>\n",
       "      <th>character</th>\n",
       "      <th>n</th>\n",
       "      <th>decade</th>\n",
       "    </tr>\n",
       "  </thead>\n",
       "  <tbody>\n",
       "    <tr>\n",
       "      <th>109472</th>\n",
       "      <td>Alexander Jamieson</td>\n",
       "      <td>2017</td>\n",
       "      <td>Etta Baker</td>\n",
       "      <td>actor</td>\n",
       "      <td>Herself</td>\n",
       "      <td>NaN</td>\n",
       "      <td>2010</td>\n",
       "    </tr>\n",
       "    <tr>\n",
       "      <th>183711</th>\n",
       "      <td>Le fils de Gascogne</td>\n",
       "      <td>1995</td>\n",
       "      <td>René Biaggi</td>\n",
       "      <td>actor</td>\n",
       "      <td>Herself</td>\n",
       "      <td>22.0</td>\n",
       "      <td>1990</td>\n",
       "    </tr>\n",
       "    <tr>\n",
       "      <th>195556</th>\n",
       "      <td>Forty Shades of Blue</td>\n",
       "      <td>2005</td>\n",
       "      <td>J. Blackfoot</td>\n",
       "      <td>actor</td>\n",
       "      <td>Herself</td>\n",
       "      <td>7.0</td>\n",
       "      <td>2000</td>\n",
       "    </tr>\n",
       "    <tr>\n",
       "      <th>195869</th>\n",
       "      <td>Wienfilm 1896-1976</td>\n",
       "      <td>1976</td>\n",
       "      <td>Moucle Blackout</td>\n",
       "      <td>actor</td>\n",
       "      <td>Herself</td>\n",
       "      <td>NaN</td>\n",
       "      <td>1970</td>\n",
       "    </tr>\n",
       "    <tr>\n",
       "      <th>212576</th>\n",
       "      <td>Not Another B Movie</td>\n",
       "      <td>2010</td>\n",
       "      <td>Babette Bombshell</td>\n",
       "      <td>actor</td>\n",
       "      <td>Herself</td>\n",
       "      <td>19.0</td>\n",
       "      <td>2010</td>\n",
       "    </tr>\n",
       "    <tr>\n",
       "      <th>...</th>\n",
       "      <td>...</td>\n",
       "      <td>...</td>\n",
       "      <td>...</td>\n",
       "      <td>...</td>\n",
       "      <td>...</td>\n",
       "      <td>...</td>\n",
       "      <td>...</td>\n",
       "    </tr>\n",
       "    <tr>\n",
       "      <th>3440957</th>\n",
       "      <td>Beziehungsweisen</td>\n",
       "      <td>2012</td>\n",
       "      <td>Heidemarie Zunken-Kreplien</td>\n",
       "      <td>actress</td>\n",
       "      <td>Herself</td>\n",
       "      <td>7.0</td>\n",
       "      <td>2010</td>\n",
       "    </tr>\n",
       "    <tr>\n",
       "      <th>3441187</th>\n",
       "      <td>All Superheroes Must Die 2: The Last Superhero</td>\n",
       "      <td>2016</td>\n",
       "      <td>Tiana Zuzierla</td>\n",
       "      <td>actress</td>\n",
       "      <td>Herself</td>\n",
       "      <td>NaN</td>\n",
       "      <td>2010</td>\n",
       "    </tr>\n",
       "    <tr>\n",
       "      <th>3441647</th>\n",
       "      <td>Vivir en Sevilla</td>\n",
       "      <td>1978</td>\n",
       "      <td>Beatriz (VI) Álvarez</td>\n",
       "      <td>actress</td>\n",
       "      <td>Herself</td>\n",
       "      <td>NaN</td>\n",
       "      <td>1970</td>\n",
       "    </tr>\n",
       "    <tr>\n",
       "      <th>3441763</th>\n",
       "      <td>Torres Quevedo: Vol. 2</td>\n",
       "      <td>2016</td>\n",
       "      <td>Patricia (XI) Álvarez</td>\n",
       "      <td>actress</td>\n",
       "      <td>Herself</td>\n",
       "      <td>204.0</td>\n",
       "      <td>2010</td>\n",
       "    </tr>\n",
       "    <tr>\n",
       "      <th>3441779</th>\n",
       "      <td>Bendito Canalla</td>\n",
       "      <td>2008</td>\n",
       "      <td>Serafina Álvarez</td>\n",
       "      <td>actress</td>\n",
       "      <td>Herself</td>\n",
       "      <td>NaN</td>\n",
       "      <td>2000</td>\n",
       "    </tr>\n",
       "  </tbody>\n",
       "</table>\n",
       "<p>6269 rows × 7 columns</p>\n",
       "</div>"
      ],
      "text/plain": [
       "                                                  title  year  \\\n",
       "109472                               Alexander Jamieson  2017   \n",
       "183711                              Le fils de Gascogne  1995   \n",
       "195556                             Forty Shades of Blue  2005   \n",
       "195869                               Wienfilm 1896-1976  1976   \n",
       "212576                              Not Another B Movie  2010   \n",
       "...                                                 ...   ...   \n",
       "3440957                                Beziehungsweisen  2012   \n",
       "3441187  All Superheroes Must Die 2: The Last Superhero  2016   \n",
       "3441647                                Vivir en Sevilla  1978   \n",
       "3441763                          Torres Quevedo: Vol. 2  2016   \n",
       "3441779                                 Bendito Canalla  2008   \n",
       "\n",
       "                               name     type character      n  decade  \n",
       "109472                   Etta Baker    actor   Herself    NaN    2010  \n",
       "183711                  René Biaggi    actor   Herself   22.0    1990  \n",
       "195556                 J. Blackfoot    actor   Herself    7.0    2000  \n",
       "195869              Moucle Blackout    actor   Herself    NaN    1970  \n",
       "212576            Babette Bombshell    actor   Herself   19.0    2010  \n",
       "...                             ...      ...       ...    ...     ...  \n",
       "3440957  Heidemarie Zunken-Kreplien  actress   Herself    7.0    2010  \n",
       "3441187              Tiana Zuzierla  actress   Herself    NaN    2010  \n",
       "3441647        Beatriz (VI) Álvarez  actress   Herself    NaN    1970  \n",
       "3441763       Patricia (XI) Álvarez  actress   Herself  204.0    2010  \n",
       "3441779            Serafina Álvarez  actress   Herself    NaN    2000  \n",
       "\n",
       "[6269 rows x 7 columns]"
      ]
     },
     "execution_count": 28,
     "metadata": {},
     "output_type": "execute_result"
    }
   ],
   "source": [
    "c4 = c\n",
    "c4 = c4[c4.character == \"Herself\"]\n",
    "c4"
   ]
  },
  {
   "cell_type": "code",
   "execution_count": 29,
   "id": "d923950e",
   "metadata": {},
   "outputs": [
    {
     "data": {
      "text/plain": [
       "Queen Elizabeth II        11\n",
       "María Luisa (V) Martín     9\n",
       "Luisa Horga                9\n",
       "Joyce Brothers             8\n",
       "Margaret Thatcher          8\n",
       "Hillary Clinton            8\n",
       "Sumie Sakai                6\n",
       "Marta Berrocal             6\n",
       "Inés J. Southern           6\n",
       "Rekha                      6\n",
       "Name: name, dtype: int64"
      ]
     },
     "execution_count": 29,
     "metadata": {},
     "output_type": "execute_result"
    }
   ],
   "source": [
    "c4.name.value_counts().head(10)"
   ]
  },
  {
   "cell_type": "markdown",
   "id": "e47077f2",
   "metadata": {},
   "source": [
    "## Who are the 10 people most often credited as \"Himself\" in film history?"
   ]
  },
  {
   "cell_type": "code",
   "execution_count": 30,
   "id": "21b4b9d6",
   "metadata": {},
   "outputs": [
    {
     "data": {
      "text/html": [
       "<div>\n",
       "<style scoped>\n",
       "    .dataframe tbody tr th:only-of-type {\n",
       "        vertical-align: middle;\n",
       "    }\n",
       "\n",
       "    .dataframe tbody tr th {\n",
       "        vertical-align: top;\n",
       "    }\n",
       "\n",
       "    .dataframe thead th {\n",
       "        text-align: right;\n",
       "    }\n",
       "</style>\n",
       "<table border=\"1\" class=\"dataframe\">\n",
       "  <thead>\n",
       "    <tr style=\"text-align: right;\">\n",
       "      <th></th>\n",
       "      <th>title</th>\n",
       "      <th>year</th>\n",
       "      <th>name</th>\n",
       "      <th>type</th>\n",
       "      <th>character</th>\n",
       "      <th>n</th>\n",
       "      <th>decade</th>\n",
       "    </tr>\n",
       "  </thead>\n",
       "  <tbody>\n",
       "    <tr>\n",
       "      <th>35</th>\n",
       "      <td>Been Down So Long It Looks Like Up to Me</td>\n",
       "      <td>1971</td>\n",
       "      <td>Murray the 'K'</td>\n",
       "      <td>actor</td>\n",
       "      <td>Himself</td>\n",
       "      <td>NaN</td>\n",
       "      <td>1970</td>\n",
       "    </tr>\n",
       "    <tr>\n",
       "      <th>36</th>\n",
       "      <td>I Wanna Hold Your Hand</td>\n",
       "      <td>1978</td>\n",
       "      <td>Murray the 'K'</td>\n",
       "      <td>actor</td>\n",
       "      <td>Himself</td>\n",
       "      <td>48.0</td>\n",
       "      <td>1970</td>\n",
       "    </tr>\n",
       "    <tr>\n",
       "      <th>55</th>\n",
       "      <td>Whitefolks</td>\n",
       "      <td>2017</td>\n",
       "      <td>Darryel 'Original Whitefolks' Woodson</td>\n",
       "      <td>actor</td>\n",
       "      <td>Himself</td>\n",
       "      <td>14.0</td>\n",
       "      <td>2010</td>\n",
       "    </tr>\n",
       "    <tr>\n",
       "      <th>92</th>\n",
       "      <td>Love Hollywood Style</td>\n",
       "      <td>2006</td>\n",
       "      <td>Mac 10</td>\n",
       "      <td>actor</td>\n",
       "      <td>Himself</td>\n",
       "      <td>NaN</td>\n",
       "      <td>2000</td>\n",
       "    </tr>\n",
       "    <tr>\n",
       "      <th>119</th>\n",
       "      <td>The Beat</td>\n",
       "      <td>2003</td>\n",
       "      <td>4-Zone</td>\n",
       "      <td>actor</td>\n",
       "      <td>Himself</td>\n",
       "      <td>NaN</td>\n",
       "      <td>2000</td>\n",
       "    </tr>\n",
       "    <tr>\n",
       "      <th>...</th>\n",
       "      <td>...</td>\n",
       "      <td>...</td>\n",
       "      <td>...</td>\n",
       "      <td>...</td>\n",
       "      <td>...</td>\n",
       "      <td>...</td>\n",
       "      <td>...</td>\n",
       "    </tr>\n",
       "    <tr>\n",
       "      <th>3293013</th>\n",
       "      <td>Der letzte Bissen</td>\n",
       "      <td>2007</td>\n",
       "      <td>Vanessa Struhler</td>\n",
       "      <td>actress</td>\n",
       "      <td>Himself</td>\n",
       "      <td>NaN</td>\n",
       "      <td>2000</td>\n",
       "    </tr>\n",
       "    <tr>\n",
       "      <th>3297298</th>\n",
       "      <td>Paper Heart</td>\n",
       "      <td>2009</td>\n",
       "      <td>Gill Summers</td>\n",
       "      <td>actress</td>\n",
       "      <td>Himself</td>\n",
       "      <td>4.0</td>\n",
       "      <td>2000</td>\n",
       "    </tr>\n",
       "    <tr>\n",
       "      <th>3335528</th>\n",
       "      <td>The Feminine Touch</td>\n",
       "      <td>1941</td>\n",
       "      <td>Dennie Travis</td>\n",
       "      <td>actress</td>\n",
       "      <td>Himself</td>\n",
       "      <td>NaN</td>\n",
       "      <td>1940</td>\n",
       "    </tr>\n",
       "    <tr>\n",
       "      <th>3375962</th>\n",
       "      <td>Change (IV)</td>\n",
       "      <td>2014</td>\n",
       "      <td>Bára Vávrová</td>\n",
       "      <td>actress</td>\n",
       "      <td>Himself</td>\n",
       "      <td>NaN</td>\n",
       "      <td>2010</td>\n",
       "    </tr>\n",
       "    <tr>\n",
       "      <th>3442606</th>\n",
       "      <td>Pamuk Prens</td>\n",
       "      <td>2016</td>\n",
       "      <td>Betül Özenç</td>\n",
       "      <td>actress</td>\n",
       "      <td>Himself</td>\n",
       "      <td>16.0</td>\n",
       "      <td>2010</td>\n",
       "    </tr>\n",
       "  </tbody>\n",
       "</table>\n",
       "<p>19637 rows × 7 columns</p>\n",
       "</div>"
      ],
      "text/plain": [
       "                                            title  year  \\\n",
       "35       Been Down So Long It Looks Like Up to Me  1971   \n",
       "36                         I Wanna Hold Your Hand  1978   \n",
       "55                                     Whitefolks  2017   \n",
       "92                           Love Hollywood Style  2006   \n",
       "119                                      The Beat  2003   \n",
       "...                                           ...   ...   \n",
       "3293013                         Der letzte Bissen  2007   \n",
       "3297298                               Paper Heart  2009   \n",
       "3335528                        The Feminine Touch  1941   \n",
       "3375962                               Change (IV)  2014   \n",
       "3442606                               Pamuk Prens  2016   \n",
       "\n",
       "                                          name     type character     n  \\\n",
       "35                              Murray the 'K'    actor   Himself   NaN   \n",
       "36                              Murray the 'K'    actor   Himself  48.0   \n",
       "55       Darryel 'Original Whitefolks' Woodson    actor   Himself  14.0   \n",
       "92                                      Mac 10    actor   Himself   NaN   \n",
       "119                                     4-Zone    actor   Himself   NaN   \n",
       "...                                        ...      ...       ...   ...   \n",
       "3293013                       Vanessa Struhler  actress   Himself   NaN   \n",
       "3297298                           Gill Summers  actress   Himself   4.0   \n",
       "3335528                          Dennie Travis  actress   Himself   NaN   \n",
       "3375962                           Bára Vávrová  actress   Himself   NaN   \n",
       "3442606                            Betül Özenç  actress   Himself  16.0   \n",
       "\n",
       "         decade  \n",
       "35         1970  \n",
       "36         1970  \n",
       "55         2010  \n",
       "92         2000  \n",
       "119        2000  \n",
       "...         ...  \n",
       "3293013    2000  \n",
       "3297298    2000  \n",
       "3335528    1940  \n",
       "3375962    2010  \n",
       "3442606    2010  \n",
       "\n",
       "[19637 rows x 7 columns]"
      ]
     },
     "execution_count": 30,
     "metadata": {},
     "output_type": "execute_result"
    }
   ],
   "source": [
    "ch = c[c.character == \"Himself\"]\n",
    "ch"
   ]
  },
  {
   "cell_type": "code",
   "execution_count": 31,
   "id": "4b753821",
   "metadata": {},
   "outputs": [
    {
     "data": {
      "text/plain": [
       "Adolf Hitler          91\n",
       "Richard Nixon         43\n",
       "Ronald Reagan         37\n",
       "John F. Kennedy       35\n",
       "Winston Churchill     24\n",
       "George W. Bush        24\n",
       "Martin Luther King    23\n",
       "Bill Clinton          22\n",
       "Benito Mussolini      21\n",
       "Ron Jeremy            20\n",
       "Name: name, dtype: int64"
      ]
     },
     "execution_count": 31,
     "metadata": {},
     "output_type": "execute_result"
    }
   ],
   "source": [
    "ch.name.value_counts().head(10)"
   ]
  },
  {
   "cell_type": "markdown",
   "id": "3303bec3",
   "metadata": {},
   "source": [
    "## Which actors or actresses appeared in the most movies in the year 1985?"
   ]
  },
  {
   "cell_type": "code",
   "execution_count": 32,
   "id": "ff8760d3",
   "metadata": {},
   "outputs": [
    {
     "data": {
      "text/plain": [
       "Mammootty             22\n",
       "Sukumari              20\n",
       "Shakti Kapoor         19\n",
       "Raj Babbar            15\n",
       "Mohanlal              15\n",
       "                      ..\n",
       "Charles Linton         1\n",
       "Peter Links            1\n",
       "Wolf-Dieter Lingk      1\n",
       "Howard Lineberger      1\n",
       "Dalla Þórðardóttir     1\n",
       "Name: name, Length: 20612, dtype: int64"
      ]
     },
     "execution_count": 32,
     "metadata": {},
     "output_type": "execute_result"
    }
   ],
   "source": [
    "# doubt\n",
    "ca = c[(c.year == 1985)]\n",
    "ca.name.value_counts()"
   ]
  },
  {
   "cell_type": "markdown",
   "id": "97e883e8",
   "metadata": {},
   "source": [
    "## Plot how many roles Mammootty has played in each year of his career."
   ]
  },
  {
   "cell_type": "code",
   "execution_count": 33,
   "id": "62e0587c",
   "metadata": {},
   "outputs": [
    {
     "name": "stdout",
     "output_type": "stream",
     "text": [
      "1971     1\n",
      "1980     2\n",
      "1981     3\n",
      "1982     7\n",
      "1983    18\n",
      "1984    16\n",
      "1985    22\n",
      "1986    18\n",
      "1987    10\n",
      "1988     7\n",
      "1989    10\n",
      "1990    16\n",
      "1991     6\n",
      "1992     3\n",
      "1993     5\n",
      "1994     5\n",
      "1995     5\n",
      "1996     5\n",
      "1997     2\n",
      "1998     4\n",
      "1999     4\n",
      "2000     7\n",
      "2001     3\n",
      "2002     3\n",
      "2003     2\n",
      "2004     7\n",
      "2005     6\n",
      "2006     8\n",
      "2007     7\n",
      "2008     9\n",
      "2009    11\n",
      "2010     7\n",
      "2011     7\n",
      "2012     7\n",
      "2013     5\n",
      "2014     6\n",
      "2015     6\n",
      "2016     4\n",
      "2017     2\n",
      "Name: year, dtype: int64\n"
     ]
    }
   ],
   "source": [
    "cm = c[c.name == \"Mammootty\"]\n",
    "cm = cm.year.value_counts().sort_index()\n",
    "print(cm)"
   ]
  },
  {
   "cell_type": "code",
   "execution_count": 34,
   "id": "9c6a6e23",
   "metadata": {},
   "outputs": [
    {
     "data": {
      "text/plain": [
       "<AxesSubplot:title={'center':'Number of Mammootty roles in each year of his entire career'}, xlabel='Year', ylabel='Number of roles'>"
      ]
     },
     "execution_count": 34,
     "metadata": {},
     "output_type": "execute_result"
    },
    {
     "data": {
      "image/png": "[encoded data removed]",
      "text/plain": [
       "<Figure size 640x480 with 1 Axes>"
      ]
     },
     "metadata": {},
     "output_type": "display_data"
    }
   ],
   "source": [
    "cm.plot(kind=\"line\",title=\"Number of Mammootty roles in each year of his entire career\", xlim=(1971,2017), ylabel = \"Number of roles\",xlabel=\"Year\")"
   ]
  },
  {
   "cell_type": "markdown",
   "id": "64f306d5",
   "metadata": {},
   "source": [
    "## What are the 10 most frequent roles that start with the phrase \"Patron in\"?"
   ]
  },
  {
   "cell_type": "code",
   "execution_count": 35,
   "id": "9cca207e",
   "metadata": {},
   "outputs": [
    {
     "data": {
      "text/html": [
       "<div>\n",
       "<style scoped>\n",
       "    .dataframe tbody tr th:only-of-type {\n",
       "        vertical-align: middle;\n",
       "    }\n",
       "\n",
       "    .dataframe tbody tr th {\n",
       "        vertical-align: top;\n",
       "    }\n",
       "\n",
       "    .dataframe thead th {\n",
       "        text-align: right;\n",
       "    }\n",
       "</style>\n",
       "<table border=\"1\" class=\"dataframe\">\n",
       "  <thead>\n",
       "    <tr style=\"text-align: right;\">\n",
       "      <th></th>\n",
       "      <th>title</th>\n",
       "      <th>year</th>\n",
       "      <th>name</th>\n",
       "      <th>type</th>\n",
       "      <th>character</th>\n",
       "      <th>n</th>\n",
       "      <th>decade</th>\n",
       "    </tr>\n",
       "  </thead>\n",
       "  <tbody>\n",
       "    <tr>\n",
       "      <th>19696</th>\n",
       "      <td>Let It Ride</td>\n",
       "      <td>1989</td>\n",
       "      <td>Ralph Ahn</td>\n",
       "      <td>actor</td>\n",
       "      <td>Patron in Chinese Restaurant</td>\n",
       "      <td>43.0</td>\n",
       "      <td>1980</td>\n",
       "    </tr>\n",
       "    <tr>\n",
       "      <th>22711</th>\n",
       "      <td>Alex Cross</td>\n",
       "      <td>2012</td>\n",
       "      <td>Anthony Akins</td>\n",
       "      <td>actor</td>\n",
       "      <td>Patron in restaurant</td>\n",
       "      <td>NaN</td>\n",
       "      <td>2010</td>\n",
       "    </tr>\n",
       "    <tr>\n",
       "      <th>24240</th>\n",
       "      <td>Missing Pieces</td>\n",
       "      <td>2012</td>\n",
       "      <td>Rico Alago</td>\n",
       "      <td>actor</td>\n",
       "      <td>Patron in Restaurant</td>\n",
       "      <td>NaN</td>\n",
       "      <td>2010</td>\n",
       "    </tr>\n",
       "    <tr>\n",
       "      <th>28847</th>\n",
       "      <td>The Black Bird</td>\n",
       "      <td>1975</td>\n",
       "      <td>John Alderman</td>\n",
       "      <td>actor</td>\n",
       "      <td>Patron in Ballroom</td>\n",
       "      <td>NaN</td>\n",
       "      <td>1970</td>\n",
       "    </tr>\n",
       "    <tr>\n",
       "      <th>30914</th>\n",
       "      <td>Sparkle</td>\n",
       "      <td>2012</td>\n",
       "      <td>Eligah Alexander Jr.</td>\n",
       "      <td>actor</td>\n",
       "      <td>Patron in Audience</td>\n",
       "      <td>NaN</td>\n",
       "      <td>2010</td>\n",
       "    </tr>\n",
       "    <tr>\n",
       "      <th>...</th>\n",
       "      <td>...</td>\n",
       "      <td>...</td>\n",
       "      <td>...</td>\n",
       "      <td>...</td>\n",
       "      <td>...</td>\n",
       "      <td>...</td>\n",
       "      <td>...</td>\n",
       "    </tr>\n",
       "    <tr>\n",
       "      <th>3116878</th>\n",
       "      <td>Above Suspicion</td>\n",
       "      <td>1943</td>\n",
       "      <td>Nita Pike</td>\n",
       "      <td>actress</td>\n",
       "      <td>Patron in Frisky Rabbit</td>\n",
       "      <td>NaN</td>\n",
       "      <td>1940</td>\n",
       "    </tr>\n",
       "    <tr>\n",
       "      <th>3123680</th>\n",
       "      <td>Crashing</td>\n",
       "      <td>2007</td>\n",
       "      <td>Sachi Pollard</td>\n",
       "      <td>actress</td>\n",
       "      <td>Patron in the Coffee House</td>\n",
       "      <td>56.0</td>\n",
       "      <td>2000</td>\n",
       "    </tr>\n",
       "    <tr>\n",
       "      <th>3326927</th>\n",
       "      <td>Crashing</td>\n",
       "      <td>2007</td>\n",
       "      <td>Talia Tinari</td>\n",
       "      <td>actress</td>\n",
       "      <td>Patron in the Coffee House</td>\n",
       "      <td>57.0</td>\n",
       "      <td>2000</td>\n",
       "    </tr>\n",
       "    <tr>\n",
       "      <th>3328565</th>\n",
       "      <td>Breaking the Press</td>\n",
       "      <td>2010</td>\n",
       "      <td>Michelle Toche</td>\n",
       "      <td>actress</td>\n",
       "      <td>Patron in restaurant</td>\n",
       "      <td>NaN</td>\n",
       "      <td>2010</td>\n",
       "    </tr>\n",
       "    <tr>\n",
       "      <th>3342638</th>\n",
       "      <td>Let It Ride</td>\n",
       "      <td>1989</td>\n",
       "      <td>Myra Turley</td>\n",
       "      <td>actress</td>\n",
       "      <td>Patron in Chinese Restaurant</td>\n",
       "      <td>37.0</td>\n",
       "      <td>1980</td>\n",
       "    </tr>\n",
       "  </tbody>\n",
       "</table>\n",
       "<p>108 rows × 7 columns</p>\n",
       "</div>"
      ],
      "text/plain": [
       "                      title  year                  name     type  \\\n",
       "19696           Let It Ride  1989             Ralph Ahn    actor   \n",
       "22711            Alex Cross  2012         Anthony Akins    actor   \n",
       "24240        Missing Pieces  2012            Rico Alago    actor   \n",
       "28847        The Black Bird  1975         John Alderman    actor   \n",
       "30914               Sparkle  2012  Eligah Alexander Jr.    actor   \n",
       "...                     ...   ...                   ...      ...   \n",
       "3116878     Above Suspicion  1943             Nita Pike  actress   \n",
       "3123680            Crashing  2007         Sachi Pollard  actress   \n",
       "3326927            Crashing  2007          Talia Tinari  actress   \n",
       "3328565  Breaking the Press  2010        Michelle Toche  actress   \n",
       "3342638         Let It Ride  1989           Myra Turley  actress   \n",
       "\n",
       "                            character     n  decade  \n",
       "19696    Patron in Chinese Restaurant  43.0    1980  \n",
       "22711            Patron in restaurant   NaN    2010  \n",
       "24240            Patron in Restaurant   NaN    2010  \n",
       "28847              Patron in Ballroom   NaN    1970  \n",
       "30914              Patron in Audience   NaN    2010  \n",
       "...                               ...   ...     ...  \n",
       "3116878       Patron in Frisky Rabbit   NaN    1940  \n",
       "3123680    Patron in the Coffee House  56.0    2000  \n",
       "3326927    Patron in the Coffee House  57.0    2000  \n",
       "3328565          Patron in restaurant   NaN    2010  \n",
       "3342638  Patron in Chinese Restaurant  37.0    1980  \n",
       "\n",
       "[108 rows x 7 columns]"
      ]
     },
     "execution_count": 35,
     "metadata": {},
     "output_type": "execute_result"
    }
   ],
   "source": [
    "cp = c\n",
    "cp = cp[cp.character.str.contains(\"Patron in\") == True]\n",
    "cp"
   ]
  },
  {
   "cell_type": "code",
   "execution_count": 36,
   "id": "3a3575a5",
   "metadata": {},
   "outputs": [
    {
     "data": {
      "text/plain": [
       "Patron in Frisky Rabbit         16\n",
       "Patron in Chinese Restaurant     9\n",
       "Patron in the Coffee House       8\n",
       "Patron in Billiard Parlor        5\n",
       "Patron in Restaurant             3\n",
       "Patron in restaurant             3\n",
       "Patron in Bar                    3\n",
       "Patron in Club                   3\n",
       "Patron in cabaret                3\n",
       "Theatre Patron in Loge           2\n",
       "Name: character, dtype: int64"
      ]
     },
     "execution_count": 36,
     "metadata": {},
     "output_type": "execute_result"
    }
   ],
   "source": [
    "cp[cp.character.str.contains(\"Patron in \") == True].character.value_counts().head(10)"
   ]
  },
  {
   "cell_type": "code",
   "execution_count": 37,
   "id": "72f84cd4",
   "metadata": {},
   "outputs": [
    {
     "data": {
      "text/plain": [
       "Patron in Frisky Rabbit         16\n",
       "Patron in Chinese Restaurant     9\n",
       "Patron in the Coffee House       8\n",
       "Patron in Billiard Parlor        5\n",
       "Patron in restaurant             3\n",
       "Patron in cabaret                3\n",
       "Patron in Club                   3\n",
       "Patron in Restaurant             3\n",
       "Patron in Bar                    3\n",
       "Patron in Audience               2\n",
       "Name: character, dtype: int64"
      ]
     },
     "execution_count": 37,
     "metadata": {},
     "output_type": "execute_result"
    }
   ],
   "source": [
    "# another way\n",
    "cp[cp.character.str.startswith('Patron in ')].character.value_counts().head(10)"
   ]
  },
  {
   "cell_type": "markdown",
   "id": "5eba959d",
   "metadata": {},
   "source": [
    "## What are the 10 most frequent roles that start with the word \"Science\"?"
   ]
  },
  {
   "cell_type": "code",
   "execution_count": 38,
   "id": "ba78192f",
   "metadata": {},
   "outputs": [
    {
     "data": {
      "text/html": [
       "<div>\n",
       "<style scoped>\n",
       "    .dataframe tbody tr th:only-of-type {\n",
       "        vertical-align: middle;\n",
       "    }\n",
       "\n",
       "    .dataframe tbody tr th {\n",
       "        vertical-align: top;\n",
       "    }\n",
       "\n",
       "    .dataframe thead th {\n",
       "        text-align: right;\n",
       "    }\n",
       "</style>\n",
       "<table border=\"1\" class=\"dataframe\">\n",
       "  <thead>\n",
       "    <tr style=\"text-align: right;\">\n",
       "      <th></th>\n",
       "      <th>title</th>\n",
       "      <th>year</th>\n",
       "      <th>name</th>\n",
       "      <th>type</th>\n",
       "      <th>character</th>\n",
       "      <th>n</th>\n",
       "      <th>decade</th>\n",
       "    </tr>\n",
       "  </thead>\n",
       "  <tbody>\n",
       "    <tr>\n",
       "      <th>11160</th>\n",
       "      <td>Teen Wolf Too</td>\n",
       "      <td>1987</td>\n",
       "      <td>Matthew T. Adams</td>\n",
       "      <td>actor</td>\n",
       "      <td>Science Student</td>\n",
       "      <td>NaN</td>\n",
       "      <td>1980</td>\n",
       "    </tr>\n",
       "    <tr>\n",
       "      <th>30870</th>\n",
       "      <td>Three O'Clock High</td>\n",
       "      <td>1987</td>\n",
       "      <td>Michael Alex</td>\n",
       "      <td>actor</td>\n",
       "      <td>Science Kid</td>\n",
       "      <td>25.0</td>\n",
       "      <td>1980</td>\n",
       "    </tr>\n",
       "    <tr>\n",
       "      <th>76325</th>\n",
       "      <td>Star Trek</td>\n",
       "      <td>2009</td>\n",
       "      <td>Richard (III) Arnold</td>\n",
       "      <td>actor</td>\n",
       "      <td>Romulan Science Tech</td>\n",
       "      <td>NaN</td>\n",
       "      <td>2000</td>\n",
       "    </tr>\n",
       "    <tr>\n",
       "      <th>83011</th>\n",
       "      <td>Mutant Chronicles</td>\n",
       "      <td>2008</td>\n",
       "      <td>Roger Ashton-Griffiths</td>\n",
       "      <td>actor</td>\n",
       "      <td>Science Monk</td>\n",
       "      <td>13.0</td>\n",
       "      <td>2000</td>\n",
       "    </tr>\n",
       "    <tr>\n",
       "      <th>128651</th>\n",
       "      <td>The Giggles</td>\n",
       "      <td>2013</td>\n",
       "      <td>Kevin Barnstein</td>\n",
       "      <td>actor</td>\n",
       "      <td>Science Performer 3</td>\n",
       "      <td>19.0</td>\n",
       "      <td>2010</td>\n",
       "    </tr>\n",
       "    <tr>\n",
       "      <th>...</th>\n",
       "      <td>...</td>\n",
       "      <td>...</td>\n",
       "      <td>...</td>\n",
       "      <td>...</td>\n",
       "      <td>...</td>\n",
       "      <td>...</td>\n",
       "      <td>...</td>\n",
       "    </tr>\n",
       "    <tr>\n",
       "      <th>3387011</th>\n",
       "      <td>The End</td>\n",
       "      <td>2007</td>\n",
       "      <td>Randi Warwick</td>\n",
       "      <td>actress</td>\n",
       "      <td>Science Assistant</td>\n",
       "      <td>NaN</td>\n",
       "      <td>2000</td>\n",
       "    </tr>\n",
       "    <tr>\n",
       "      <th>3395188</th>\n",
       "      <td>EMO the Musical</td>\n",
       "      <td>2016</td>\n",
       "      <td>Marie Werrett</td>\n",
       "      <td>actress</td>\n",
       "      <td>Science Teacher</td>\n",
       "      <td>NaN</td>\n",
       "      <td>2010</td>\n",
       "    </tr>\n",
       "    <tr>\n",
       "      <th>3401642</th>\n",
       "      <td>Ransom</td>\n",
       "      <td>1996</td>\n",
       "      <td>Anna Marie Wieder</td>\n",
       "      <td>actress</td>\n",
       "      <td>Woman at Science Fair</td>\n",
       "      <td>65.0</td>\n",
       "      <td>1990</td>\n",
       "    </tr>\n",
       "    <tr>\n",
       "      <th>3404161</th>\n",
       "      <td>Real Genius</td>\n",
       "      <td>1985</td>\n",
       "      <td>JoAnn Willette</td>\n",
       "      <td>actress</td>\n",
       "      <td>Girl at Science Fair</td>\n",
       "      <td>16.0</td>\n",
       "      <td>1980</td>\n",
       "    </tr>\n",
       "    <tr>\n",
       "      <th>3423734</th>\n",
       "      <td>2012</td>\n",
       "      <td>2009</td>\n",
       "      <td>Donna Yamamoto</td>\n",
       "      <td>actress</td>\n",
       "      <td>AF1 Science Officer</td>\n",
       "      <td>34.0</td>\n",
       "      <td>2000</td>\n",
       "    </tr>\n",
       "  </tbody>\n",
       "</table>\n",
       "<p>224 rows × 7 columns</p>\n",
       "</div>"
      ],
      "text/plain": [
       "                      title  year                    name     type  \\\n",
       "11160         Teen Wolf Too  1987        Matthew T. Adams    actor   \n",
       "30870    Three O'Clock High  1987            Michael Alex    actor   \n",
       "76325             Star Trek  2009    Richard (III) Arnold    actor   \n",
       "83011     Mutant Chronicles  2008  Roger Ashton-Griffiths    actor   \n",
       "128651          The Giggles  2013         Kevin Barnstein    actor   \n",
       "...                     ...   ...                     ...      ...   \n",
       "3387011             The End  2007           Randi Warwick  actress   \n",
       "3395188     EMO the Musical  2016           Marie Werrett  actress   \n",
       "3401642              Ransom  1996       Anna Marie Wieder  actress   \n",
       "3404161         Real Genius  1985          JoAnn Willette  actress   \n",
       "3423734                2012  2009          Donna Yamamoto  actress   \n",
       "\n",
       "                     character     n  decade  \n",
       "11160          Science Student   NaN    1980  \n",
       "30870              Science Kid  25.0    1980  \n",
       "76325     Romulan Science Tech   NaN    2000  \n",
       "83011             Science Monk  13.0    2000  \n",
       "128651     Science Performer 3  19.0    2010  \n",
       "...                        ...   ...     ...  \n",
       "3387011      Science Assistant   NaN    2000  \n",
       "3395188        Science Teacher   NaN    2010  \n",
       "3401642  Woman at Science Fair  65.0    1990  \n",
       "3404161   Girl at Science Fair  16.0    1980  \n",
       "3423734    AF1 Science Officer  34.0    2000  \n",
       "\n",
       "[224 rows x 7 columns]"
      ]
     },
     "execution_count": 38,
     "metadata": {},
     "output_type": "execute_result"
    }
   ],
   "source": [
    "cs = c\n",
    "cs = cs[cs.character.str.contains(\"Science\") == True]\n",
    "cs"
   ]
  },
  {
   "cell_type": "code",
   "execution_count": 39,
   "id": "a61ab04a",
   "metadata": {},
   "outputs": [
    {
     "data": {
      "text/plain": [
       "Science Teacher         57\n",
       "Science Fair Student     9\n",
       "Science Student          6\n",
       "Science Fair Judge       6\n",
       "Science Kid              5\n",
       "Science Fair Kid         5\n",
       "Science Reporter         5\n",
       "Science                  4\n",
       "Science Officer          3\n",
       "Science teacher          3\n",
       "Name: character, dtype: int64"
      ]
     },
     "execution_count": 39,
     "metadata": {},
     "output_type": "execute_result"
    }
   ],
   "source": [
    "cs[cs.character.str.startswith('Science')].character.value_counts().head(10)"
   ]
  },
  {
   "cell_type": "markdown",
   "id": "855aa07c",
   "metadata": {},
   "source": [
    "## Plot the n-values of the roles that Judi Dench has played over her career."
   ]
  },
  {
   "cell_type": "code",
   "execution_count": 43,
   "id": "0fa982c7",
   "metadata": {},
   "outputs": [
    {
     "data": {
      "text/plain": [
       "<AxesSubplot:xlabel='year', ylabel='n'>"
      ]
     },
     "execution_count": 43,
     "metadata": {},
     "output_type": "execute_result"
    },
    {
     "data": {
      "image/png": "[encoded data removed]",
      "text/plain": [
       "<Figure size 640x480 with 1 Axes>"
      ]
     },
     "metadata": {},
     "output_type": "display_data"
    }
   ],
   "source": [
    "cj = c\n",
    "cj = cj[cj.name == 'Judi Dench']\n",
    "cj = cj[cj.n.notnull()]\n",
    "cj.plot(x='year', y='n', kind='scatter')"
   ]
  },
  {
   "cell_type": "markdown",
   "id": "5b9cb935",
   "metadata": {},
   "source": [
    "## Plot the n-values of Cary Grant's roles through his career."
   ]
  },
  {
   "cell_type": "code",
   "execution_count": 44,
   "id": "ce8920d1",
   "metadata": {},
   "outputs": [
    {
     "data": {
      "text/plain": [
       "<AxesSubplot:xlabel='year', ylabel='n'>"
      ]
     },
     "execution_count": 44,
     "metadata": {},
     "output_type": "execute_result"
    },
    {
     "data": {
      "image/png": "[encoded data removed]",
      "text/plain": [
       "<Figure size 640x480 with 1 Axes>"
      ]
     },
     "metadata": {},
     "output_type": "display_data"
    }
   ],
   "source": [
    "ccg = c\n",
    "ccg = ccg[ccg.name == 'Cary Grant']\n",
    "ccg = ccg[ccg.n.notnull()]\n",
    "ccg.plot(x='year', y='n', kind='scatter')"
   ]
  },
  {
   "cell_type": "markdown",
   "id": "e3c49674",
   "metadata": {},
   "source": [
    "## Plot the n-value of the roles that Sidney Poitier has acted over the years."
   ]
  },
  {
   "cell_type": "code",
   "execution_count": 47,
   "id": "f9d9ddf1",
   "metadata": {},
   "outputs": [
    {
     "data": {
      "text/plain": [
       "<AxesSubplot:xlabel='year', ylabel='n'>"
      ]
     },
     "execution_count": 47,
     "metadata": {},
     "output_type": "execute_result"
    },
    {
     "data": {
      "image/png": "[encoded data removed]",
      "text/plain": [
       "<Figure size 640x480 with 1 Axes>"
      ]
     },
     "metadata": {},
     "output_type": "display_data"
    }
   ],
   "source": [
    "csp= c\n",
    "csp = csp[csp.name == 'Sidney Poitier']\n",
    "csp= csp[csp.n.notnull()]\n",
    "csp.plot(x='year', y='n', kind='scatter')"
   ]
  },
  {
   "cell_type": "markdown",
   "id": "0ef4815f",
   "metadata": {},
   "source": [
    "## How many leading (n=1) roles were available to actors, and how many to actresses, in the 1950s?"
   ]
  },
  {
   "cell_type": "code",
   "execution_count": 48,
   "id": "acbb3891",
   "metadata": {},
   "outputs": [
    {
     "data": {
      "text/plain": [
       "actor      6482\n",
       "actress    2985\n",
       "Name: type, dtype: int64"
      ]
     },
     "execution_count": 48,
     "metadata": {},
     "output_type": "execute_result"
    }
   ],
   "source": [
    "n1 = c\n",
    "n1 = n1[n1.n == 1]\n",
    "n1 = n1[n1.decade == 1950]\n",
    "n1.type.value_counts()"
   ]
  },
  {
   "cell_type": "markdown",
   "id": "72cef97e",
   "metadata": {},
   "source": [
    "## How many supporting (n=2) roles were available to actors, and how many to actresses, in the 1950s?"
   ]
  },
  {
   "cell_type": "code",
   "execution_count": 49,
   "id": "6e24008c",
   "metadata": {},
   "outputs": [
    {
     "data": {
      "text/plain": [
       "actor      4520\n",
       "actress    4496\n",
       "Name: type, dtype: int64"
      ]
     },
     "execution_count": 49,
     "metadata": {},
     "output_type": "execute_result"
    }
   ],
   "source": [
    "n2 = c\n",
    "n2 = n2[n2.n == 2]\n",
    "n2 = n2[n2.decade == 1950]\n",
    "n2.type.value_counts()"
   ]
  },
  {
   "cell_type": "code",
   "execution_count": null,
   "id": "345f5eac",
   "metadata": {},
   "outputs": [],
   "source": []
  }
 ],
 "metadata": {
  "kernelspec": {
   "display_name": "Python 3 (ipykernel)",
   "language": "python",
   "name": "python3"
  },
  "language_info": {
   "codemirror_mode": {
    "name": "ipython",
    "version": 3
   },
   "file_extension": ".py",
   "mimetype": "text/x-python",
   "name": "python",
   "nbconvert_exporter": "python",
   "pygments_lexer": "ipython3",
   "version": "3.9.13"
  }
 },
 "nbformat": 4,
 "nbformat_minor": 5
}
